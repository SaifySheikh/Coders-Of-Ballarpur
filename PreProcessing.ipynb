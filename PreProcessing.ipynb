{
 "cells": [
  {
   "cell_type": "code",
   "execution_count": 16,
   "id": "b01aaab7-01b8-4673-a01c-32cfcb9dc580",
   "metadata": {},
   "outputs": [],
   "source": [
    "import json"
   ]
  },
  {
   "cell_type": "code",
   "execution_count": 17,
   "id": "fbf10af7-f02a-4185-9ed2-120d06e9a8b2",
   "metadata": {},
   "outputs": [],
   "source": [
    "# function to read the file \n",
    "def load_data(filename):\n",
    "    with open(filename,\"r\") as f:\n",
    "        data=json.load(f)\n",
    "    return data    "
   ]
  },
  {
   "cell_type": "code",
   "execution_count": 18,
   "id": "d311cab5-5944-4f9c-8dfd-553d509277fc",
   "metadata": {
    "scrolled": true
   },
   "outputs": [
    {
     "data": {
      "text/plain": [
       "{'users': [{'id': 1, 'name': 'Amit', 'friends': [2, 3], 'liked_pages': [101]},\n",
       "  {'id': 2, 'name': 'Priya', 'friends': [1, 4], 'liked_pages': [102]},\n",
       "  {'id': 3, 'name': '', 'friends': [1], 'liked_pages': [101, 103]},\n",
       "  {'id': 4, 'name': 'Sara', 'friends': [2, 2], 'liked_pages': [104]},\n",
       "  {'id': 5, 'name': 'Amit', 'friends': [], 'liked_pages': []}],\n",
       " 'pages': [{'id': 101, 'name': 'Python Developers'},\n",
       "  {'id': 102, 'name': 'Data Science Enthusiasts'},\n",
       "  {'id': 103, 'name': 'AI & ML Community'},\n",
       "  {'id': 104, 'name': 'Web Dev Hub'},\n",
       "  {'id': 104, 'name': 'Web Development'}]}"
      ]
     },
     "execution_count": 18,
     "metadata": {},
     "output_type": "execute_result"
    }
   ],
   "source": [
    "#now lets print the data\n",
    "data = load_data(\"dump_data.json\")\n",
    "data"
   ]
  },
  {
   "cell_type": "code",
   "execution_count": 19,
   "id": "c9a144af-58c6-4351-8256-688aa6f9037d",
   "metadata": {},
   "outputs": [],
   "source": [
    "def clean_data(data):\n",
    "\n",
    "    # Remove user with no name\n",
    "    data[\"users\"] = [user for user in data[\"users\"] if user[\"name\"].strip()]\n",
    "\n",
    "    # Remove duplicate id in friends\n",
    "    for user in data['users']:\n",
    "        user['friends']=list(set(user['friends']))\n",
    "\n",
    "    # Remove Inactive user\n",
    "    data['users']=[user for user in data['users'] if user['friends'] or user['liked_pages']]\n",
    "\n",
    "    # Remove duplicate pages\n",
    "    unique_pages={}\n",
    "    for page in data['pages']:\n",
    "        unique_pages[page['id']]=page\n",
    "\n",
    "    data['pages']=[page for page in unique_pages.values()]\n",
    "\n",
    "    return data"
   ]
  },
  {
   "cell_type": "code",
   "execution_count": 20,
   "id": "37094aec-a270-4746-8661-b9324a192934",
   "metadata": {},
   "outputs": [
    {
     "name": "stdout",
     "output_type": "stream",
     "text": [
      "Data cleaned successfully!\n"
     ]
    }
   ],
   "source": [
    "data=clean_data(data)\n",
    "json.dump(data, open(\"cleaned_codebook_data.json\", \"w\"), indent=4)\n",
    "print(\"Data cleaned successfully!\")"
   ]
  }
 ],
 "metadata": {
  "kernelspec": {
   "display_name": "Python 3 (ipykernel)",
   "language": "python",
   "name": "python3"
  },
  "language_info": {
   "codemirror_mode": {
    "name": "ipython",
    "version": 3
   },
   "file_extension": ".py",
   "mimetype": "text/x-python",
   "name": "python",
   "nbconvert_exporter": "python",
   "pygments_lexer": "ipython3",
   "version": "3.13.2"
  }
 },
 "nbformat": 4,
 "nbformat_minor": 5
}
