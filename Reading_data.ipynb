{
 "cells": [
  {
   "cell_type": "code",
   "execution_count": 1,
   "id": "47ebc2cb-1de5-4198-94c5-62d84cd44e71",
   "metadata": {},
   "outputs": [],
   "source": [
    "import json"
   ]
  },
  {
   "cell_type": "code",
   "execution_count": 5,
   "id": "2991ad8d-01c0-4c27-8eec-aa921aaeb52b",
   "metadata": {},
   "outputs": [],
   "source": [
    "# function to read the file \n",
    "def load_data(filename):\n",
    "    with open(filename,\"r\") as f:\n",
    "        data=json.load(f)\n",
    "    return data    "
   ]
  },
  {
   "cell_type": "code",
   "execution_count": 8,
   "id": "e239f46d-f8e2-4f01-b4c0-000337593eb5",
   "metadata": {},
   "outputs": [
    {
     "data": {
      "text/plain": [
       "{'users': [{'id': 1, 'name': 'Amit', 'friends': [2, 3], 'liked_pages': [101]},\n",
       "  {'id': 2, 'name': 'Priya', 'friends': [1, 4], 'liked_pages': [102]},\n",
       "  {'id': 3, 'name': 'Rahul', 'friends': [1], 'liked_pages': [101, 103]},\n",
       "  {'id': 4, 'name': 'Sara', 'friends': [2], 'liked_pages': [104]}],\n",
       " 'pages': [{'id': 101, 'name': 'Python Developers'},\n",
       "  {'id': 102, 'name': 'Data Science Enthusiasts'},\n",
       "  {'id': 103, 'name': 'AI & ML Community'},\n",
       "  {'id': 104, 'name': 'Web Dev Hub'}]}"
      ]
     },
     "execution_count": 8,
     "metadata": {},
     "output_type": "execute_result"
    }
   ],
   "source": [
    "#now lets print the data\n",
    "data = load_data(\"data.json\")\n",
    "data"
   ]
  },
  {
   "cell_type": "code",
   "execution_count": 9,
   "id": "89cc260f-f5f2-450b-9e7e-b2ac59d6de12",
   "metadata": {},
   "outputs": [],
   "source": [
    "# now lets read data of each user\n",
    "def read_user_data(data):\n",
    "    for user in data['users']:\n",
    "        print(f\"{user['name']} has Id = {user['id']} and is friends with {user['friends']} \\n\")"
   ]
  },
  {
   "cell_type": "code",
   "execution_count": 10,
   "id": "d421e6e3-d7d5-4431-a65c-5d0375cec6f6",
   "metadata": {},
   "outputs": [
    {
     "name": "stdout",
     "output_type": "stream",
     "text": [
      "Amit has Id = 1 and is friends with [2, 3] \n",
      "\n",
      "Priya has Id = 2 and is friends with [1, 4] \n",
      "\n",
      "Rahul has Id = 3 and is friends with [1] \n",
      "\n",
      "Sara has Id = 4 and is friends with [2] \n",
      "\n"
     ]
    }
   ],
   "source": [
    "read_user_data(data)"
   ]
  },
  {
   "cell_type": "code",
   "execution_count": 12,
   "id": "b54aa0a8-7926-4c01-850f-a526ae71563b",
   "metadata": {},
   "outputs": [],
   "source": [
    "# now lets read data of each user in more detail\n",
    "def read_user_data_detailed(data):\n",
    "    for user in data['users']:\n",
    "        print(f\"{user['name']} has Id = {user['id']} and is friends with - \")\n",
    "        for friend_id in user['friends']:\n",
    "            for user in data['users']:\n",
    "                if friend_id==user['id']:\n",
    "                    print(user['name'])\n",
    "        print(\"\\n\")            "
   ]
  },
  {
   "cell_type": "code",
   "execution_count": 13,
   "id": "3abd692a-f73f-4df2-bbb0-70379c5c6240",
   "metadata": {},
   "outputs": [
    {
     "name": "stdout",
     "output_type": "stream",
     "text": [
      "Amit has Id = 1 and is friends with - \n",
      "Priya\n",
      "Rahul\n",
      "\n",
      "\n",
      "Priya has Id = 2 and is friends with - \n",
      "Amit\n",
      "Sara\n",
      "\n",
      "\n",
      "Rahul has Id = 3 and is friends with - \n",
      "Amit\n",
      "\n",
      "\n",
      "Sara has Id = 4 and is friends with - \n",
      "Priya\n",
      "\n",
      "\n"
     ]
    }
   ],
   "source": [
    "read_user_data_detailed(data)"
   ]
  },
  {
   "cell_type": "code",
   "execution_count": 14,
   "id": "5bd5461f-51b0-45c3-989a-53bc159ffff0",
   "metadata": {},
   "outputs": [
    {
     "data": {
      "text/plain": [
       "{'users': [{'id': 1, 'name': 'Amit', 'friends': [2, 3], 'liked_pages': [101]},\n",
       "  {'id': 2, 'name': 'Priya', 'friends': [1, 4], 'liked_pages': [102]},\n",
       "  {'id': 3, 'name': 'Rahul', 'friends': [1], 'liked_pages': [101, 103]},\n",
       "  {'id': 4, 'name': 'Sara', 'friends': [2], 'liked_pages': [104]}],\n",
       " 'pages': [{'id': 101, 'name': 'Python Developers'},\n",
       "  {'id': 102, 'name': 'Data Science Enthusiasts'},\n",
       "  {'id': 103, 'name': 'AI & ML Community'},\n",
       "  {'id': 104, 'name': 'Web Dev Hub'}]}"
      ]
     },
     "execution_count": 14,
     "metadata": {},
     "output_type": "execute_result"
    }
   ],
   "source": [
    "data"
   ]
  },
  {
   "cell_type": "code",
   "execution_count": 15,
   "id": "725c8eca-2959-4458-b1f6-148cae18d4a1",
   "metadata": {},
   "outputs": [],
   "source": [
    "# now lets read page data \n",
    "def read_page_data(data):\n",
    "    for page in data['pages']:\n",
    "        print(f\"{page['name']} has ID = {page['id']}\")"
   ]
  },
  {
   "cell_type": "code",
   "execution_count": 16,
   "id": "c64d3f8e-8cf4-475e-866b-79da92d44893",
   "metadata": {},
   "outputs": [
    {
     "name": "stdout",
     "output_type": "stream",
     "text": [
      "Python Developers has ID = 101\n",
      "Data Science Enthusiasts has ID = 102\n",
      "AI & ML Community has ID = 103\n",
      "Web Dev Hub has ID = 104\n"
     ]
    }
   ],
   "source": [
    "read_page_data(data)"
   ]
  },
  {
   "cell_type": "code",
   "execution_count": 17,
   "id": "80746b80-f377-4750-93fe-807060841c0b",
   "metadata": {},
   "outputs": [
    {
     "data": {
      "text/plain": [
       "{'users': [{'id': 1, 'name': 'Amit', 'friends': [2, 3], 'liked_pages': [101]},\n",
       "  {'id': 2, 'name': 'Priya', 'friends': [1, 4], 'liked_pages': [102]},\n",
       "  {'id': 3, 'name': 'Rahul', 'friends': [1], 'liked_pages': [101, 103]},\n",
       "  {'id': 4, 'name': 'Sara', 'friends': [2], 'liked_pages': [104]}],\n",
       " 'pages': [{'id': 101, 'name': 'Python Developers'},\n",
       "  {'id': 102, 'name': 'Data Science Enthusiasts'},\n",
       "  {'id': 103, 'name': 'AI & ML Community'},\n",
       "  {'id': 104, 'name': 'Web Dev Hub'}]}"
      ]
     },
     "execution_count": 17,
     "metadata": {},
     "output_type": "execute_result"
    }
   ],
   "source": [
    "data"
   ]
  },
  {
   "cell_type": "code",
   "execution_count": 22,
   "id": "48d3bca0-b8ce-4ad7-8768-81d23eff70d9",
   "metadata": {},
   "outputs": [],
   "source": [
    "# Function to read and display complete user data including their friends and liked pages\n",
    "def read_complete_user_data(data):\n",
    "    for user in data['users']:\n",
    "        print(\"=\" * 50)\n",
    "        print(f\"Name       : {user['name']}\")\n",
    "        print(f\"User ID    : {user['id']}\")\n",
    "        \n",
    "        # Display friends\n",
    "        print(\"Friends    :\")\n",
    "        for friend_id in user['friends']:\n",
    "            for other_user in data['users']:\n",
    "                if friend_id == other_user['id']:\n",
    "                    print(f\"  - {other_user['name']}\")\n",
    "        \n",
    "        # Display liked pages\n",
    "        print(\"Liked Pages:\")\n",
    "        for liked_page_id in user['liked_pages']:\n",
    "            for page in data['pages']:\n",
    "                if liked_page_id == page['id']:\n",
    "                    print(f\"  - {page['name']}\")\n",
    "        print(\"=\" * 50 + \"\\n\")\n"
   ]
  },
  {
   "cell_type": "code",
   "execution_count": 23,
   "id": "3f0b6aad-c074-42f6-96f9-ba05f70c4968",
   "metadata": {},
   "outputs": [
    {
     "name": "stdout",
     "output_type": "stream",
     "text": [
      "==================================================\n",
      "Name       : Amit\n",
      "User ID    : 1\n",
      "Friends    :\n",
      "  - Priya\n",
      "  - Rahul\n",
      "Liked Pages:\n",
      "  - Python Developers\n",
      "==================================================\n",
      "\n",
      "==================================================\n",
      "Name       : Priya\n",
      "User ID    : 2\n",
      "Friends    :\n",
      "  - Amit\n",
      "  - Sara\n",
      "Liked Pages:\n",
      "  - Data Science Enthusiasts\n",
      "==================================================\n",
      "\n",
      "==================================================\n",
      "Name       : Rahul\n",
      "User ID    : 3\n",
      "Friends    :\n",
      "  - Amit\n",
      "Liked Pages:\n",
      "  - Python Developers\n",
      "  - AI & ML Community\n",
      "==================================================\n",
      "\n",
      "==================================================\n",
      "Name       : Sara\n",
      "User ID    : 4\n",
      "Friends    :\n",
      "  - Priya\n",
      "Liked Pages:\n",
      "  - Web Dev Hub\n",
      "==================================================\n",
      "\n"
     ]
    }
   ],
   "source": [
    "read_complete_user_data(data)"
   ]
  }
 ],
 "metadata": {
  "kernelspec": {
   "display_name": "Python 3 (ipykernel)",
   "language": "python",
   "name": "python3"
  },
  "language_info": {
   "codemirror_mode": {
    "name": "ipython",
    "version": 3
   },
   "file_extension": ".py",
   "mimetype": "text/x-python",
   "name": "python",
   "nbconvert_exporter": "python",
   "pygments_lexer": "ipython3",
   "version": "3.13.2"
  }
 },
 "nbformat": 4,
 "nbformat_minor": 5
}
