{
 "cells": [
  {
   "cell_type": "code",
   "execution_count": 1,
   "id": "435b44ae-397f-4a25-8cd0-01410ff0fcfc",
   "metadata": {},
   "outputs": [],
   "source": [
    "import json"
   ]
  },
  {
   "cell_type": "code",
   "execution_count": 2,
   "id": "5c84aada-2ed0-48ea-a6ae-5015af3fab83",
   "metadata": {},
   "outputs": [],
   "source": [
    "def load_data(filename):\n",
    "    with open(filename,\"r\") as f:\n",
    "        data=json.load(f)\n",
    "    return data    "
   ]
  },
  {
   "cell_type": "code",
   "execution_count": 3,
   "id": "3ae89929-c5de-46dd-8e2e-caaeaa0f0ca4",
   "metadata": {},
   "outputs": [
    {
     "data": {
      "text/plain": [
       "{'users': [{'id': 1, 'name': 'Amit', 'friends': [2, 3], 'liked_pages': [101]},\n",
       "  {'id': 2, 'name': 'Priya', 'friends': [1, 4], 'liked_pages': [102]},\n",
       "  {'id': 3, 'name': 'Rahul', 'friends': [1], 'liked_pages': [101, 103]},\n",
       "  {'id': 4, 'name': 'Sara', 'friends': [2], 'liked_pages': [104]}],\n",
       " 'pages': [{'id': 101, 'name': 'Python Developers'},\n",
       "  {'id': 102, 'name': 'Data Science Enthusiasts'},\n",
       "  {'id': 103, 'name': 'AI & ML Community'},\n",
       "  {'id': 104, 'name': 'Web Dev Hub'}]}"
      ]
     },
     "execution_count": 3,
     "metadata": {},
     "output_type": "execute_result"
    }
   ],
   "source": [
    "data = load_data(\"data.json\")\n",
    "data"
   ]
  },
  {
   "cell_type": "code",
   "execution_count": 14,
   "id": "212d7691-d78d-4d2f-b071-07df0bba86cd",
   "metadata": {},
   "outputs": [
    {
     "name": "stdout",
     "output_type": "stream",
     "text": [
      "{1: [2, 3], 2: [1, 4], 3: [1], 4: [2]}\n"
     ]
    }
   ],
   "source": [
    "user_friend={}\n",
    "for user in data['users']:\n",
    "    user_friend[user['id']]=user['friends']\n",
    "\n",
    "print(user_friend)"
   ]
  },
  {
   "cell_type": "code",
   "execution_count": 15,
   "id": "a78c0ec1-34c0-445b-aedc-835519cda9c4",
   "metadata": {},
   "outputs": [
    {
     "data": {
      "text/plain": [
       "{1: [101], 2: [102], 3: [101, 103], 4: [104]}"
      ]
     },
     "execution_count": 15,
     "metadata": {},
     "output_type": "execute_result"
    }
   ],
   "source": [
    "liked_pages={}\n",
    "for user in data['users']:\n",
    "    liked_pages[user['id']]=user['liked_pages']\n",
    "\n",
    "liked_pages"
   ]
  },
  {
   "cell_type": "code",
   "execution_count": 18,
   "id": "a4f31ef8-a374-480e-a6e9-e63db760c6aa",
   "metadata": {},
   "outputs": [],
   "source": [
    "def pages_you_might_like(user_id):\n",
    "    if user_id not in user_friend:\n",
    "        print(f\"{user_id} is not present in our dataset\")\n",
    "        return []\n",
    "\n",
    "    pages=[]\n",
    "    direct_friends=user_friend[user_id] # [2,3]\n",
    "    for friend in direct_friends: # 2\n",
    "        for friend_pages in liked_pages[friend]: # for 2 -> [102]\n",
    "            if friend_pages not in pages and friend_pages not in liked_pages[user_id]:\n",
    "                pages.append(friend_pages)\n",
    "    return pages           "
   ]
  },
  {
   "cell_type": "code",
   "execution_count": 12,
   "id": "1a30ae4e-02a2-4910-8e46-efa8c899e221",
   "metadata": {},
   "outputs": [
    {
     "name": "stdout",
     "output_type": "stream",
     "text": [
      "5 is not present in our dataset\n"
     ]
    },
    {
     "data": {
      "text/plain": [
       "[]"
      ]
     },
     "execution_count": 12,
     "metadata": {},
     "output_type": "execute_result"
    }
   ],
   "source": [
    "pages_you_might_like(5)"
   ]
  },
  {
   "cell_type": "code",
   "execution_count": 19,
   "id": "c0338ee5-cc95-468e-87f8-8449e10a636d",
   "metadata": {},
   "outputs": [
    {
     "data": {
      "text/plain": [
       "[102, 103]"
      ]
     },
     "execution_count": 19,
     "metadata": {},
     "output_type": "execute_result"
    }
   ],
   "source": [
    "pages_you_might_like(1)"
   ]
  },
  {
   "cell_type": "code",
   "execution_count": 20,
   "id": "a29a1007-4652-4534-9687-c9ceaf5e9b21",
   "metadata": {},
   "outputs": [
    {
     "data": {
      "text/plain": [
       "[101, 104]"
      ]
     },
     "execution_count": 20,
     "metadata": {},
     "output_type": "execute_result"
    }
   ],
   "source": [
    "pages_you_might_like(2)"
   ]
  },
  {
   "cell_type": "code",
   "execution_count": 21,
   "id": "8374168a-1228-47f5-9aa9-72db220fd7ff",
   "metadata": {},
   "outputs": [
    {
     "data": {
      "text/plain": [
       "[]"
      ]
     },
     "execution_count": 21,
     "metadata": {},
     "output_type": "execute_result"
    }
   ],
   "source": [
    "pages_you_might_like(3)"
   ]
  },
  {
   "cell_type": "code",
   "execution_count": 22,
   "id": "b4d03270-5ced-4460-a1c4-0968372f1017",
   "metadata": {},
   "outputs": [
    {
     "data": {
      "text/plain": [
       "[102]"
      ]
     },
     "execution_count": 22,
     "metadata": {},
     "output_type": "execute_result"
    }
   ],
   "source": [
    "pages_you_might_like(4)"
   ]
  }
 ],
 "metadata": {
  "kernelspec": {
   "display_name": "Python 3 (ipykernel)",
   "language": "python",
   "name": "python3"
  },
  "language_info": {
   "codemirror_mode": {
    "name": "ipython",
    "version": 3
   },
   "file_extension": ".py",
   "mimetype": "text/x-python",
   "name": "python",
   "nbconvert_exporter": "python",
   "pygments_lexer": "ipython3",
   "version": "3.13.2"
  }
 },
 "nbformat": 4,
 "nbformat_minor": 5
}
